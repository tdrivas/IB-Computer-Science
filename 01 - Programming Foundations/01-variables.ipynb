{
 "cells": [
  {
   "attachments": {},
   "cell_type": "markdown",
   "id": "cfdcaedf",
   "metadata": {},
   "source": [
    "# 📦 Variables in Python\n",
    " \n",
    "## Learning objectives\n",
    "\n",
    "After completing this notebook, you should be able to:\n",
    "\n",
    "- Understand what variables are and why they are important.\n",
    "- Assign values to variables using the assignment operator (`=`).\n",
    "- Identify naming conventions and good practices.\n",
    "- Recognize different data types commonly used in Python.\n",
    "- Apply variables in simple programs and mathematical operations.\n"
   ]
  },
  {
   "cell_type": "markdown",
   "id": "1053946d",
   "metadata": {},
   "source": [
    "## 1. What is a Variable?\n",
    "\n",
    "A **variable** is a name that stores a value in the computer’s memory. It acts like a labeled box that holds information you can reuse or modify later.\n",
    "\n",
    "For example:\n",
    "- A variable can store a number, a word, or even a list of values.\n",
    "- Variables make your programs flexible — you can change the data without rewriting the logic.\n",
    "\n",
    "In Python, you create a variable simply by assigning a value to a name using the `=` sign."
   ]
  },
  {
   "cell_type": "markdown",
   "id": "64ed875f",
   "metadata": {},
   "source": [
    "### Example: Assigning variables"
   ]
  },
  {
   "cell_type": "code",
   "execution_count": 4,
   "id": "046c4be8",
   "metadata": {},
   "outputs": [
    {
     "name": "stdout",
     "output_type": "stream",
     "text": [
      "Alice\n",
      "17\n",
      "1.65\n"
     ]
    }
   ],
   "source": [
    "name = \"Alice\"\n",
    "age = 17\n",
    "height = 1.65\n",
    "\n",
    "print(name)\n",
    "print(age)\n",
    "print(height)"
   ]
  },
  {
   "cell_type": "markdown",
   "id": "0d0e4104",
   "metadata": {},
   "source": [
    "🧠 **Think: What kind of information do these variables represent?**\n",
    "\n",
    "- name → text (string)\n",
    "\n",
    "- age → whole number (integer)\n",
    "\n",
    "- height → decimal number (float)"
   ]
  },
  {
   "cell_type": "markdown",
   "id": "f8338647",
   "metadata": {},
   "source": [
    "## 2. Naming Rules and Conventions\n",
    "\n",
    "Python variable names must follow some rules:\n",
    "\n",
    "**Rules (must follow):**\n",
    "\n",
    "- Must begin with a letter or underscore (_)\n",
    "\n",
    "- Cannot start with a number\n",
    "\n",
    "- Can contain letters, numbers, and underscores\n",
    "\n",
    "- Are case-sensitive (age ≠ Age)\n",
    "\n",
    "\n",
    "**Conventions (good style):**\n",
    "\n",
    "- Use lowercase letters and underscores for clarity (e.g. student_name)\n",
    "\n",
    "- Choose meaningful names (avoid x1, temp unless temporary)\n",
    "\n",
    "- Constants (unchanging values) are written in uppercase, e.g. PI = 3.14159"
   ]
  },
  {
   "cell_type": "markdown",
   "id": "44fd192c",
   "metadata": {},
   "source": [
    "### Examples of good and bad names"
   ]
  },
  {
   "cell_type": "code",
   "execution_count": 6,
   "id": "c4cc75c3",
   "metadata": {},
   "outputs": [
    {
     "ename": "SyntaxError",
     "evalue": "invalid decimal literal (1049684604.py, line 4)",
     "output_type": "error",
     "traceback": [
      "\u001b[1;36m  Cell \u001b[1;32mIn[6], line 4\u001b[1;36m\u001b[0m\n\u001b[1;33m    1st_place = \"Tom\"       # ❌ invalid, starts with number\u001b[0m\n\u001b[1;37m    ^\u001b[0m\n\u001b[1;31mSyntaxError\u001b[0m\u001b[1;31m:\u001b[0m invalid decimal literal\n"
     ]
    }
   ],
   "source": [
    "student_name = \"Peter\"    # ✅good\n",
    "studentAge = 16         # ⚠️ works, but not best practice (prefer Snake-case instead of camel-case)\n",
    "_score = 95             # ✅ valid, sometimes used internally (e.g. internal variables and functions)\n",
    "1st_place = \"Tom\"       # ❌ invalid, starts with number"
   ]
  },
  {
   "cell_type": "markdown",
   "id": "f960815c",
   "metadata": {},
   "source": [
    "## 3. Data Types and the type() Function\n",
    "\n",
    "Each variable has a data type depending on what it stores.\n",
    "\n",
    "Some of the basic data types are depicted below:\n",
    "\n",
    "<table style=\"border-collapse: collapse; width: 80%; margin: 20px auto; font-family: Arial, sans-serif; font-size: 15px;\">\n",
    "  <thead>\n",
    "    <tr style=\"background-color: #f3f3f3; border-bottom: 2px solid #ccc;\">\n",
    "      <th style=\"text-align: left; padding: 10px;\">Data Type</th>\n",
    "      <th style=\"text-align: left; padding: 10px;\">Example</th>\n",
    "      <th style=\"text-align: left; padding: 10px;\">Description</th>\n",
    "    </tr>\n",
    "  </thead>\n",
    "  <tbody>\n",
    "    <tr style=\"border-bottom: 1px solid #ddd;\">\n",
    "      <td style=\"padding: 8px;\">int</td>\n",
    "      <td style=\"padding: 8px;\">42</td>\n",
    "      <td style=\"padding: 8px;\">Whole numbers</td>\n",
    "    </tr>\n",
    "    <tr style=\"background-color: #fafafa; border-bottom: 1px solid #ddd;\">\n",
    "      <td style=\"padding: 8px;\">float</td>\n",
    "      <td style=\"padding: 8px;\">3.14</td>\n",
    "      <td style=\"padding: 8px;\">Numbers with decimals</td>\n",
    "    </tr>\n",
    "    <tr style=\"border-bottom: 1px solid #ddd;\">\n",
    "      <td style=\"padding: 8px;\">str</td>\n",
    "      <td style=\"padding: 8px;\">'Hello'</td>\n",
    "      <td style=\"padding: 8px;\">Text (string)</td>\n",
    "    </tr>\n",
    "    <tr style=\"background-color: #fafafa;\">\n",
    "      <td style=\"padding: 8px;\">bool</td>\n",
    "      <td style=\"padding: 8px;\">True, False</td>\n",
    "      <td style=\"padding: 8px;\">Logical (Boolean) values</td>\n",
    "    </tr>\n",
    "  </tbody>\n",
    "</table>\n",
    "\n",
    "\n",
    "We can check a variable’s data type with `type()`:"
   ]
  },
  {
   "cell_type": "markdown",
   "id": "f9c93ea5",
   "metadata": {},
   "source": [
    "### Example: checking types"
   ]
  },
  {
   "cell_type": "markdown",
   "id": "732d56df",
   "metadata": {},
   "source": [
    "a = 10\n",
    "b = 3.5\n",
    "c = \"Python\"\n",
    "d = True\n",
    "\n",
    "print(type(a))\n",
    "print(type(b))\n",
    "print(type(c))\n",
    "print(type(d))"
   ]
  },
  {
   "cell_type": "markdown",
   "id": "5a74d55b",
   "metadata": {},
   "source": [
    "<p style=\"background-color:#f9f9f9; padding:10px 15px; border-left:4px solid #4a90e2; border-radius:6px; font-family:Arial, sans-serif; font-size:15px;\">\n",
    "  🔍 <strong>Observation:</strong> Python automatically detects the type — no need to declare it manually (unlike in Java or C++).\n",
    "</p>"
   ]
  },
  {
   "cell_type": "markdown",
   "id": "84b5180f",
   "metadata": {},
   "source": [
    "## 4. Reassigning and Using Variables\n",
    "\n",
    "You can change the value of a variable anytime by reassigning it. Variables can also be used in expressions and calculations."
   ]
  },
  {
   "cell_type": "code",
   "execution_count": 9,
   "id": "0f31231a",
   "metadata": {},
   "outputs": [
    {
     "name": "stdout",
     "output_type": "stream",
     "text": [
      "Sum: 7\n",
      "Difference: 3\n",
      "Product: 10\n",
      "Quotient: 2.5\n"
     ]
    }
   ],
   "source": [
    "x = 5\n",
    "y = 2\n",
    "\n",
    "sum_value = x + y\n",
    "difference = x - y\n",
    "product = x * y\n",
    "quotient = x / y\n",
    "\n",
    "print(\"Sum:\", sum_value)\n",
    "print(\"Difference:\", difference)\n",
    "print(\"Product:\", product)\n",
    "print(\"Quotient:\", quotient)\n"
   ]
  },
  {
   "cell_type": "markdown",
   "id": "63f45447",
   "metadata": {},
   "source": [
    "<p style=\"background-color:#fffbea; padding:10px 15px; border-left:4px solid #ffcc00; border-radius:6px; font-family:Arial, sans-serif; font-size:15px;\">\n",
    "  📝 <strong>Note:</strong> You can reassign a variable to a new value or even a new type, but keeping data types consistent improves program readability.\n",
    "</p>"
   ]
  },
  {
   "cell_type": "code",
   "execution_count": 10,
   "id": "bb71e184",
   "metadata": {},
   "outputs": [],
   "source": [
    "age = 17\n",
    "age = \"seventeen\"  # now it's a string"
   ]
  },
  {
   "cell_type": "markdown",
   "id": "75ad1fd8",
   "metadata": {},
   "source": [
    "## 5. Reflection Exercises\n",
    "\n",
    "- Create three variables to store your name, age favorite programming language.\n",
    "\n",
    "- Use `print()` to display a sentence that combines all three.\n",
    "\n",
    "- Predict what the following code will output, then run it:\n",
    "\n",
    "```\n",
    "x = 10\n",
    "x = x + 5\n",
    "x = x * 2\n",
    "print(x)\n",
    "```"
   ]
  },
  {
   "cell_type": "code",
   "execution_count": 11,
   "id": "4eb406f8",
   "metadata": {},
   "outputs": [
    {
     "name": "stdout",
     "output_type": "stream",
     "text": [
      "Object `part` not found.\n",
      "Object `debugging` not found.\n"
     ]
    }
   ],
   "source": [
    "Try assigning a float value to a variable, then convert it to an integer using int(). What happens to the decimal part?\n",
    "\n",
    "➡️ Discuss: How do naming conventions and consistent variable types improve readability and debugging?"
   ]
  },
  {
   "cell_type": "code",
   "execution_count": null,
   "id": "f2604278",
   "metadata": {},
   "outputs": [],
   "source": [
    "<p style=\"background-color:#f3f8ff; padding:10px 15px; border-left:4px solid #4a90e2; border-radius:6px; font-family:Arial, sans-serif; font-size:15px;\">\n",
    "  🧠 <strong>Reflection:</strong> How can clear variable naming make your code easier for someone else to read and maintain?\n",
    "</p>\n"
   ]
  }
 ],
 "metadata": {
  "kernelspec": {
   "display_name": "Python 3 (ipykernel)",
   "language": "python",
   "name": "python3"
  },
  "language_info": {
   "codemirror_mode": {
    "name": "ipython",
    "version": 3
   },
   "file_extension": ".py",
   "mimetype": "text/x-python",
   "name": "python",
   "nbconvert_exporter": "python",
   "pygments_lexer": "ipython3",
   "version": "3.10.7"
  }
 },
 "nbformat": 4,
 "nbformat_minor": 5
}
