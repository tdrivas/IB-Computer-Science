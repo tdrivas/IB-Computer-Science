{
 "cells": [
  {
   "cell_type": "markdown",
   "id": "7f0350e5-936a-488d-b25c-deb306f86f4d",
   "metadata": {},
   "source": [
    "# 🐍 Getting Started with Python\n",
    "\n",
    "Now that you know what programming means, let’s start writing real Python code!  \n",
    "Python is simple, readable, and powerful — the perfect first language for IB Computer Science.\n",
    "\n",
    "---\n",
    "\n",
    "## 🎯 Learning Goals\n",
    "- Use the **print()** function to display information.\n",
    "- Add **comments** and understand **indentation**.\n",
    "- Get user input with **input()**.\n",
    "- Understand what happens **under the hood** when Python executes code.\n",
    "- Connect `print()` to **everyday real-world printing** (receipts, tickets, labels, screens)."
   ]
  },
  {
   "cell_type": "markdown",
   "id": "3516f806-c823-4b57-bb65-c9f8cd9889e3",
   "metadata": {},
   "source": [
    "## ✨ The `print()` Function: Everyday Use in Real Life\n",
    "\n",
    "`print()` sends information to the **output**. In the real world, output is everywhere:\n",
    "\n",
    "- 🧾 **Receipts** at supermarkets and cafés (date, items, VAT, total)\n",
    "- 🎟️ **Tickets** from kiosks (bus, cinema, parking)\n",
    "- 🏷️ **Labels** from label makers (name tags, shipping labels, barcodes/QR)\n",
    "- 💳 **ATMs & POS terminals** showing “Insert card”, “Approved”, balance\n",
    "- 🏫 **School announcements** on a display (“Exam Room A, 10:00”)\n",
    "- 🍔 **Restaurant kitchen slips** with order items\n",
    "- 🧪 **Lab result printouts** with values and units\n",
    "\n",
    "In Python, `print()` is your way to **produce such text output** (to a screen now; later you can redirect to files/printers).\n",
    "\n",
    "Try it:\n"
   ]
  },
  {
   "cell_type": "code",
   "execution_count": 1,
   "id": "58e0b712-1bdc-4365-9673-cfe8ec225009",
   "metadata": {},
   "outputs": [
    {
     "name": "stdout",
     "output_type": "stream",
     "text": [
      "SUPERMARKET XYZ\n",
      "Date: 2025-10-13  12:42\n",
      "-------------------------\n",
      "Milk (1L)         €1.35\n",
      "Bread             €1.20\n",
      "Apples (0.8kg)    €1.76\n",
      "-------------------------\n",
      "TOTAL             €4.31\n",
      "VAT (13%)         €0.56\n",
      "Thank you for shopping!\n"
     ]
    }
   ],
   "source": [
    "print(\"SUPERMARKET XYZ\")\n",
    "print(\"Date: 2025-10-13  12:42\")\n",
    "print(\"-------------------------\")\n",
    "print(\"Milk (1L)         €1.35\")\n",
    "print(\"Bread             €1.20\")\n",
    "print(\"Apples (0.8kg)    €1.76\")\n",
    "print(\"-------------------------\")\n",
    "print(\"TOTAL             €4.31\")\n",
    "print(\"VAT (13%)         €0.56\")\n",
    "print(\"Thank you for shopping!\")"
   ]
  },
  {
   "cell_type": "markdown",
   "id": "fbe4c16f-8a34-4117-8154-2cb37e86492e",
   "metadata": {},
   "source": [
    "## 🧑‍💻 Basic `print()` Examples\n",
    "\n",
    "You can print messages, numbers, or mixed content. Python automatically spaces items separated by commas.\n"
   ]
  },
  {
   "cell_type": "code",
   "execution_count": 2,
   "id": "23b964f6-306b-4e5c-844a-bc9de490a2d8",
   "metadata": {},
   "outputs": [
    {
     "name": "stdout",
     "output_type": "stream",
     "text": [
      "Welcome to the ticket kiosk\n",
      "Your queue number is: 42\n",
      "Please wait to be called…\n",
      "Next year Mrs X will be 36 years old\n"
     ]
    }
   ],
   "source": [
    "print(\"Welcome to the ticket kiosk\")\n",
    "print(\"Your queue number is:\", 42)\n",
    "print(\"Please wait to be called…\")\n",
    "print(\"Next year Mrs X will be\", 35 + 1, \"years old\")"
   ]
  },
  {
   "cell_type": "markdown",
   "id": "31fa2357-aab1-4885-a85f-5d67da585493",
   "metadata": {},
   "source": [
    "## 🔡 Getting Input from Users (like kiosks asking you)\n",
    "\n",
    "Real life:\n",
    "- A kiosk asks: “Select language”\n",
    "- A ticket machine asks: “Destination?”\n",
    "- An ATM asks: “Enter PIN”\n",
    "\n",
    "In Python, use `input()` to collect answers."
   ]
  },
  {
   "cell_type": "code",
   "execution_count": 3,
   "id": "ea453b3d-09fd-4da1-930f-d5cc7356e0bd",
   "metadata": {},
   "outputs": [
    {
     "name": "stdin",
     "output_type": "stream",
     "text": [
      "Enter your name for the ticket:  Thanassis\n"
     ]
    },
    {
     "name": "stdout",
     "output_type": "stream",
     "text": [
      "Ticket issued to: Thanassis\n"
     ]
    }
   ],
   "source": [
    "name = input(\"Enter your name for the ticket: \")\n",
    "print(\"Ticket issued to:\", name)"
   ]
  },
  {
   "cell_type": "markdown",
   "id": "bdeb95e5-c324-4c4b-b9ff-3ea41cf6bb42",
   "metadata": {},
   "source": [
    "## 🔢 Why do we need to “convert” input?\n",
    "\n",
    "`input()` **always returns text** (a string), even if the user types `42`.  But math needs **numbers**, not text. So we convert the text to a number before calculating. This process is called **casting process**\n",
    "\n",
    "Everyday examples:\n",
    "- Ticket kiosk: you type **3** tickets → the system must add prices (`3 * 1.50`), not glue text (`\"3\" + \"1.50\"`).\n",
    "- Shop total: you type **12.99** --> the POS must sum floats, not strings."
   ]
  },
  {
   "cell_type": "code",
   "execution_count": 4,
   "id": "51d7dc61-ba40-4a1f-a084-fedcd5f43f4c",
   "metadata": {},
   "outputs": [
    {
     "name": "stdin",
     "output_type": "stream",
     "text": [
      "Quantity:  3\n"
     ]
    },
    {
     "name": "stdout",
     "output_type": "stream",
     "text": [
      "Line total: 6\n"
     ]
    }
   ],
   "source": [
    "qty_text = input(\"Quantity: \")\n",
    "\n",
    "# We need to convert the string (text) into a number\n",
    "qty = int(qty_text)\n",
    "\n",
    "line_total = qty * 2\n",
    "\n",
    "print(\"Line total:\", line_total)"
   ]
  },
  {
   "cell_type": "markdown",
   "id": "539138a3-2697-4197-9596-23003c5906fc",
   "metadata": {},
   "source": [
    "### Another example casting to a float number"
   ]
  },
  {
   "cell_type": "code",
   "execution_count": 5,
   "id": "79a815f5-044c-4a83-93e7-80ddb23ae0f8",
   "metadata": {},
   "outputs": [
    {
     "name": "stdin",
     "output_type": "stream",
     "text": [
      "Price per item (€):  2.5\n"
     ]
    },
    {
     "name": "stdout",
     "output_type": "stream",
     "text": [
      "Total for 3 items: 7.5\n"
     ]
    }
   ],
   "source": [
    "price_text = input(\"Price per item (€): \")  # e.g., user types 1.75\n",
    "price = float(price_text)  # \"1.75\" -> 1.75\n",
    "print(\"Total for 3 items:\", 3 * price)"
   ]
  },
  {
   "cell_type": "markdown",
   "id": "82a167b9-3f5a-41a4-a28d-3a57bf93acad",
   "metadata": {},
   "source": [
    "## 🧮 Under the Hood: `input()`\n",
    "\n",
    "1. Python pauses and waits on `sys.stdin` (standard input stream).\n",
    "2. The user types, hits Enter → Python receives a **string** from the stream.\n",
    "3. You convert it if needed (`int(...)`, `float(...)`).\n",
    "\n",
    "This is how kiosks/terminals collect data from you before printing tickets, labels, or receipts.\n"
   ]
  },
  {
   "cell_type": "markdown",
   "id": "7c7cc8b4-faa6-429b-951d-6498560f0f25",
   "metadata": {},
   "source": [
    "## 🧾 Mini Project 1: Receipt Generator\n",
    "\n",
    "Create a tiny receipt from user input.\n",
    "\n",
    "**Specs**\n",
    "- Ask for three item names and their prices.\n",
    "- Print a formatted mini receipt with total and a thank-you message."
   ]
  },
  {
   "cell_type": "code",
   "execution_count": 6,
   "id": "f9369905-78ed-4fac-850d-58ac9ad5d0bf",
   "metadata": {},
   "outputs": [
    {
     "name": "stdout",
     "output_type": "stream",
     "text": [
      "=== MINI RECEIPT ===\n"
     ]
    },
    {
     "name": "stdin",
     "output_type": "stream",
     "text": [
      "Item 1 name:  2.4\n",
      "Item 1 price (€):  2.3\n",
      "Item 2 name:  Chocolate\n",
      "Item 2 price (€):  1.9\n",
      "Item 3 name:  Corn\n",
      "Item 3 price (€):  2.5\n"
     ]
    },
    {
     "name": "stdout",
     "output_type": "stream",
     "text": [
      "\n",
      "SUPERMARKET MINI\n",
      "--------------------------\n",
      "2.4              €  2.30\n",
      "Chocolate        €  1.90\n",
      "Corn             €  2.50\n",
      "--------------------------\n",
      "TOTAL             €  6.70\n",
      "Thank you for shopping!\n"
     ]
    }
   ],
   "source": [
    "print(\"=== MINI RECEIPT ===\")\n",
    "item1 = input(\"Item 1 name: \")\n",
    "p1 = float(input(\"Item 1 price (€): \"))\n",
    "item2 = input(\"Item 2 name: \")\n",
    "p2 = float(input(\"Item 2 price (€): \"))\n",
    "item3 = input(\"Item 3 name: \")\n",
    "p3 = float(input(\"Item 3 price (€): \"))\n",
    "\n",
    "total = p1 + p2 + p3\n",
    "\n",
    "print(\"\\nSUPERMARKET MINI\")\n",
    "print(\"--------------------------\")\n",
    "print(f\"{item1:<16} €{p1:>6.2f}\")\n",
    "print(f\"{item2:<16} €{p2:>6.2f}\")\n",
    "print(f\"{item3:<16} €{p3:>6.2f}\")\n",
    "print(\"--------------------------\")\n",
    "print(f\"TOTAL{'':<12} €{total:>6.2f}\")\n",
    "print(\"Thank you for shopping!\")"
   ]
  },
  {
   "cell_type": "markdown",
   "id": "6c84a963-a255-48ea-b09c-74acfd4512e2",
   "metadata": {},
   "source": [
    "## 🎟️ Mini Project 2 — Ticket Printer\n",
    "\n",
    "**Specs**\n",
    "- Ask for passenger name, route, and seat.\n",
    "- Print a clean ticket with a separator line."
   ]
  },
  {
   "cell_type": "code",
   "execution_count": 7,
   "id": "bc59c6d1-efc7-470d-b3b1-2ae4d8dddf57",
   "metadata": {},
   "outputs": [
    {
     "name": "stdout",
     "output_type": "stream",
     "text": [
      "=== BUS TICKET PRINTER ===\n"
     ]
    },
    {
     "name": "stdin",
     "output_type": "stream",
     "text": [
      "Name:  Mike\n",
      "Route (e.g., Athens → Patras):  Athens --> Volos\n",
      "Seat (e.g., 12A):  8B\n"
     ]
    },
    {
     "name": "stdout",
     "output_type": "stream",
     "text": [
      "\n",
      "----------------------------\n",
      "       BUS TICKET\n",
      "----------------------------\n",
      "Passenger: Mike\n",
      "Route:     Athens --> Volos\n",
      "Seat:      8B\n",
      "Date:      2025-10-13\n",
      "Boarding:  12:45\n",
      "----------------------------\n",
      "Please keep this ticket.\n"
     ]
    }
   ],
   "source": [
    "print(\"=== BUS TICKET PRINTER ===\")\n",
    "passenger = input(\"Name: \")\n",
    "route = input(\"Route (e.g., Athens → Patras): \")\n",
    "seat = input(\"Seat (e.g., 12A): \")\n",
    "\n",
    "print(\"\\n----------------------------\")\n",
    "print(\"       BUS TICKET\")\n",
    "print(\"----------------------------\")\n",
    "print(\"Passenger:\", passenger)\n",
    "print(\"Route:    \", route)\n",
    "print(\"Seat:     \", seat)\n",
    "print(\"Date:      2025-10-13\")\n",
    "print(\"Boarding:  12:45\")\n",
    "print(\"----------------------------\")\n",
    "print(\"Please keep this ticket.\")"
   ]
  },
  {
   "cell_type": "markdown",
   "id": "a6c31e9c-fcfa-4ef6-a9ac-6e4e664b28cb",
   "metadata": {},
   "source": [
    "## 🧩 Bonus: Understanding the General Syntax and Functionality of f-Strings\n",
    "\n",
    "When we print text and values together, using commas works fine:\n",
    "\n",
    "```python\n",
    "name = \"Alex\"\n",
    "age = 16\n",
    "print(\"Hi\", name, \"you are\", age, \"years old.\")\n",
    "\n",
    "But as programs grow, this can become messy.\n",
    "Python gives us a cleaner and more powerful way to format text using f-strings (formatted string literals)."
   ]
  },
  {
   "cell_type": "markdown",
   "id": "774011b6-cbad-46a2-b45a-9d7e3a3ca455",
   "metadata": {},
   "source": [
    "\n",
    "### 🔤 What is an f-string?\n",
    "\n",
    "An **f-string** (formatted string literal) lets you insert variables or expressions directly inside a string using curly braces `{}`. It starts with the letter **`f`** (or `F`) before the opening quotation mark.\n",
    "\n",
    "### Functionality\n",
    "\n",
    "When Python executes the f-string:\n",
    "\n",
    "- It evaluates each expression inside {}.\n",
    "\n",
    "- Converts the result into text using str().\n",
    "\n",
    "- Replaces the {} placeholders with the resulting text.\n",
    "\n",
    "- Displays or stores the final formatted string.\n",
    "\n",
    "This means you can mix text + variables + calculations in one neat line."
   ]
  },
  {
   "cell_type": "code",
   "execution_count": 8,
   "id": "8fae5899-0f27-42d2-a1b3-a66ee3595747",
   "metadata": {},
   "outputs": [
    {
     "name": "stdout",
     "output_type": "stream",
     "text": [
      "Ticket for Helen, Seat 12A, Price €9.5\n"
     ]
    }
   ],
   "source": [
    "name = \"Helen\"\n",
    "seat = \"12A\"\n",
    "price = 9.50\n",
    "print(f\"Ticket for {name}, Seat {seat}, Price €{price}\")"
   ]
  }
 ],
 "metadata": {
  "kernelspec": {
   "display_name": "Python 3 (ipykernel)",
   "language": "python",
   "name": "python3"
  },
  "language_info": {
   "codemirror_mode": {
    "name": "ipython",
    "version": 3
   },
   "file_extension": ".py",
   "mimetype": "text/x-python",
   "name": "python",
   "nbconvert_exporter": "python",
   "pygments_lexer": "ipython3",
   "version": "3.9.18"
  }
 },
 "nbformat": 4,
 "nbformat_minor": 5
}
